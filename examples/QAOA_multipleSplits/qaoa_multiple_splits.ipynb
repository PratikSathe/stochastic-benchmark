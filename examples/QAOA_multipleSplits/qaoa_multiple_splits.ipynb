{
 "cells": [
  {
   "cell_type": "code",
   "execution_count": null,
   "metadata": {},
   "outputs": [],
   "source": [
    "%load_ext autoreload\n",
    "%autoreload 2"
   ]
  },
  {
   "cell_type": "code",
   "execution_count": null,
   "metadata": {},
   "outputs": [],
   "source": [
    "import pandas as pd\n",
    "import matplotlib.pyplot as plt\n",
    "import os\n",
    "import numpy as np\n",
    "import sys\n",
    "import matplotlib.pyplot as plt\n",
    "\n",
    "sys.path.append('../../src/')\n",
    "import cross_validation as cv\n",
    "from plotting import ws_style\n",
    "plt.style.use(ws_style)"
   ]
  },
  {
   "cell_type": "code",
   "execution_count": null,
   "metadata": {},
   "outputs": [],
   "source": [
    "parameter_names = ['iterations'\t,'shots', 'rounds']\n",
    "# split indices go from 1 to 10\n",
    "curpath = os.path.abspath('.')\n",
    "folders = [os.path.join(curpath, 'runs', 'run{}'.format(split),'checkpoints') for split in range(1,11)]\n",
    "list_of_expts = ['Projection from TrainingStats', 'Projection from TrainingResults']\n",
    "colors_dict = {'baseline' : 'k',\n",
    "               'Projection from TrainingStats' : 'tab:blue',\n",
    "               'Projection from TrainingResults' : 'tab:orange',\n",
    "               'Random Exploration' : 'green',\n",
    "               'SequentialSearch: Id=cold' : 'red',\n",
    "               'SequentialSearch: Id=warm' : 'purple'\n",
    "               }\n",
    "response_string = 'Approximation Ratio\\n' + r\"r=$\\frac{\\langle \\vec{\\beta}, \\vec{\\gamma} | H | \\vec{\\beta}, \\vec{\\gamma} \\rangle}{E_{max}}$\" # Used for y-label on plots \n",
    "resource_string = r'Resource = Restarts $\\times$ shots $\\times$ COBLYA Iterations' # Used for x-label on plots "
   ]
  },
  {
   "cell_type": "code",
   "execution_count": null,
   "metadata": {},
   "outputs": [],
   "source": [
    "# Load data for parameter plotting\n",
    "cv.load_parameters(folders, list_of_expts)\n",
    "cv.process_params_across_splits(parameter_names)\n",
    "\n",
    "# Load data for performance plotting\n",
    "cv.load_performance(folders, list_of_expts)\n",
    "cv.process_performance_across_splits(parameter_names)\n",
    "# pd.read_csv(os.path.join(folders[0], 'params_plotting', 'baseline.csv'))"
   ]
  },
  {
   "cell_type": "markdown",
   "metadata": {},
   "source": [
    "## Plot Parameters"
   ]
  },
  {
   "cell_type": "code",
   "execution_count": null,
   "metadata": {},
   "outputs": [],
   "source": [
    "for param in parameter_names:\n",
    "    fig, axs = plt.subplots()\n",
    "    for expt in cv.parameters_summarized_dict.keys():\n",
    "        expt_param_df = cv.parameters_summarized_dict[expt][param]\n",
    "        y = expt_param_df['mean']\n",
    "        x = expt_param_df['resource']\n",
    "        y_u = expt_param_df['CI_u']\n",
    "        y_l = expt_param_df['CI_l']\n",
    "        if expt == 'baseline':\n",
    "            lw = 1\n",
    "            alpha = 0.1\n",
    "            label = 'VirtualBest'\n",
    "        else:\n",
    "            lw = 1.5\n",
    "            alpha = 0.25\n",
    "            label = expt\n",
    "        \n",
    "        axs.fill_between(x, y_l, y_u ,alpha=alpha, lw=0, color=colors_dict[expt])\n",
    "        axs.plot(x, y , '-o', lw=lw, color=colors_dict[expt], label=label)\n",
    "    axs.set_xscale('log')\n",
    "    axs.set_xlabel(resource_string)\n",
    "    axs.set_ylabel(param)\n",
    "    axs.grid(axis=\"y\")\n",
    "    axs.set_axisbelow(True)\n",
    "    axs.legend(loc='best')\n",
    "    fig.tight_layout()\n",
    "    \n",
    "    figsaveloc = os.path.join('figures','all_splits')\n",
    "    if not os.path.exists(figsaveloc): os.makedirs(figsaveloc)\n",
    "    figname = os.path.join(figsaveloc, param)\n",
    "    fig.savefig(figname+'.png', dpi=300)\n",
    "    fig.savefig(figname+'.pdf')\n"
   ]
  },
  {
   "cell_type": "markdown",
   "metadata": {},
   "source": [
    "## Plot Performance"
   ]
  },
  {
   "cell_type": "code",
   "execution_count": null,
   "metadata": {},
   "outputs": [],
   "source": [
    "fig, axs = plt.subplots()\n",
    "\n",
    "for expt, expt_df in cv.performance_summarized_dict.items():\n",
    "    x = expt_df['resource']\n",
    "    y = expt_df['mean']\n",
    "    y_u = expt_df['CI_u']\n",
    "    y_l = expt_df['CI_l']\n",
    "    if expt == 'baseline':\n",
    "        lw = 1\n",
    "        alpha = 0.1\n",
    "        label = 'VirtualBest'\n",
    "    else:\n",
    "        lw = 1.5\n",
    "        alpha = 0.25\n",
    "        label = expt\n",
    "    axs.fill_between(x, y_l, y_u, alpha=alpha, lw=0, color=colors_dict[expt])\n",
    "    axs.plot(x, y, '-o', lw=lw, color=colors_dict[expt], label=label)\n",
    "axs.set_xscale('log')\n",
    "axs.set_xlabel(resource_string)\n",
    "axs.set_ylabel(response_string)\n",
    "axs.grid(axis=\"y\")\n",
    "axs.set_axisbelow(True)\n",
    "axs.legend(loc='best')\n",
    "fig.tight_layout()\n",
    "\n",
    "figsaveloc = os.path.join('figures','all_splits')\n",
    "if not os.path.exists(figsaveloc): os.makedirs(figsaveloc)\n",
    "figname = os.path.join(figsaveloc, 'performance')\n",
    "fig.savefig(figname+'.png', dpi=300)\n",
    "fig.savefig(figname+'.pdf')"
   ]
  },
  {
   "cell_type": "markdown",
   "metadata": {},
   "source": [
    "## Individual splits"
   ]
  },
  {
   "cell_type": "code",
   "execution_count": null,
   "metadata": {},
   "outputs": [],
   "source": [
    "split_ind=0"
   ]
  },
  {
   "cell_type": "code",
   "execution_count": null,
   "metadata": {},
   "outputs": [],
   "source": [
    "# Plot parameters\n",
    "for param in parameter_names:\n",
    "    fig, axs = plt.subplots()\n",
    "    for expt, expt_df in cv.parameters_dict.items():\n",
    "        expt_split_df = expt_df[expt_df['split_ind'] == split_ind]\n",
    "        x = expt_split_df['resource']\n",
    "        y = expt_split_df[param]\n",
    "        label = expt\n",
    "        if expt == 'baseline':\n",
    "            lw = 1\n",
    "            label = 'VirtualBest'\n",
    "        else:\n",
    "            lw = 1.5\n",
    "        axs.plot(x, y , '-o', lw=lw, color=colors_dict[expt], label=label)\n",
    "    \n",
    "    axs.set_xscale('log')\n",
    "    axs.set_xlabel(resource_string)\n",
    "    axs.set_ylabel(param)\n",
    "    axs.grid(axis=\"y\")\n",
    "    axs.set_axisbelow(True)\n",
    "    axs.legend(loc='best')\n",
    "    fig.tight_layout()\n",
    "    \n",
    "    figsaveloc = os.path.join('figures','split_ind={}'.format(split_ind))\n",
    "    if not os.path.exists(figsaveloc): os.makedirs(figsaveloc)\n",
    "    figname = os.path.join(figsaveloc, param)\n",
    "    fig.savefig(figname+'.png', dpi=300)\n",
    "    fig.savefig(figname+'.pdf')"
   ]
  },
  {
   "cell_type": "code",
   "execution_count": null,
   "metadata": {},
   "outputs": [],
   "source": [
    "# Plot performance\n",
    "fig, axs = plt.subplots()\n",
    "\n",
    "for expt, expt_df in cv.performance_dict.items():\n",
    "    expt_split_df = expt_df[expt_df['split_ind'] == split_ind]\n",
    "    y = expt_split_df['response']\n",
    "    x = expt_split_df['resource']\n",
    "    label = expt\n",
    "    if expt == 'baseline':\n",
    "        lw = 1\n",
    "        alpha = 0.1\n",
    "        label = 'VirtualBest'\n",
    "    else:\n",
    "        lw = 1.5\n",
    "        alpha = 0.25\n",
    "    \n",
    "    axs.plot(x, y , '-o', lw=lw, color=colors_dict[expt], label=label)\n",
    "    if 'response_lower' in expt_split_df.columns:\n",
    "        # Add CI, if they exist in the data\n",
    "        y_u = expt_split_df['response_upper']\n",
    "        y_l = expt_split_df['response_lower']\n",
    "        axs.fill_between(x, y_l, y_u ,alpha=alpha, lw=0, color=colors_dict[expt])\n",
    "        \n",
    "    \n",
    "axs.set_xscale('log')\n",
    "axs.set_xlabel(resource_string)\n",
    "axs.set_ylabel(response_string)\n",
    "axs.grid(axis=\"y\")\n",
    "axs.set_axisbelow(True)\n",
    "axs.legend(loc='best')\n",
    "fig.tight_layout()\n",
    "\n",
    "figsaveloc = os.path.join('figures','split_ind={}'.format(split_ind))\n",
    "if not os.path.exists(figsaveloc): os.makedirs(figsaveloc)\n",
    "figname = os.path.join(figsaveloc, 'performance')\n",
    "fig.savefig(figname+'.png', dpi=300)\n",
    "fig.savefig(figname+'.pdf')"
   ]
  }
 ],
 "metadata": {
  "kernelspec": {
   "display_name": "Python 3",
   "language": "python",
   "name": "python3"
  },
  "language_info": {
   "codemirror_mode": {
    "name": "ipython",
    "version": 3
   },
   "file_extension": ".py",
   "mimetype": "text/x-python",
   "name": "python",
   "nbconvert_exporter": "python",
   "pygments_lexer": "ipython3",
   "version": "3.10.6"
  },
  "orig_nbformat": 4,
  "vscode": {
   "interpreter": {
    "hash": "d651d14a5496386137173db75c785255facb03a606f46254da78831c40677b0f"
   }
  }
 },
 "nbformat": 4,
 "nbformat_minor": 2
}
