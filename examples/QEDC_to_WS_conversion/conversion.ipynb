{
 "cells": [
  {
   "attachments": {},
   "cell_type": "markdown",
   "metadata": {},
   "source": [
    "# Conversion of data obtained from the QED-C framework\n",
    "https://github.com/SRI-International/QC-App-Oriented-Benchmarks"
   ]
  },
  {
   "attachments": {},
   "cell_type": "markdown",
   "metadata": {},
   "source": [
    "Note that the `__results` folder, the `conversion.ipynb` and `conversion.py` files should be placed in the `maxcut/qiskit` folder in the QED-C package. "
   ]
  },
  {
   "cell_type": "code",
   "execution_count": null,
   "metadata": {},
   "outputs": [],
   "source": [
    "import os\n",
    "import conversion as ws\n",
    "from itertools import product as iterprod"
   ]
  },
  {
   "attachments": {},
   "cell_type": "markdown",
   "metadata": {},
   "source": [
    "The data provided here comprises only two instances, `instance=0` and `instance=1`. For each instance, output corresponding to different parameter values (i.e. values of shots and rounds) are stored in different folders. Each folder has data from 100 restarts. "
   ]
  },
  {
   "cell_type": "code",
   "execution_count": null,
   "metadata": {},
   "outputs": [],
   "source": [
    "#%% Parameters and functions for loading data\n",
    "rounds_list = [2]\n",
    "num_shots_list = [50,70,100]\n",
    "obj_func_list = ['approx_ratio'] # ['cvar_ratio', 'approx_ratio', 'gibbs_ratio', 'bestcut_ratio']\n",
    "\n",
    "objective_function_type = 'approx_ratio'\n",
    "\n",
    "def get_folder_names(instance_number, objective_function_type):\n",
    "    \"\"\"Get a list of folders with raw data corresponding to given instance and objective function\n",
    "\n",
    "    Args:\n",
    "        instance_number (int)\n",
    "        objective_function_type (str)\n",
    "\n",
    "    Returns:\n",
    "        nested dictionary: key sequence [rounds][num_shots] contains location of folder with raw data corresponding to those values. \n",
    "    \"\"\"\n",
    "    all_folders = dict()\n",
    "    for rounds in rounds_list:\n",
    "        shots_dict = dict()\n",
    "        for num_shots in num_shots_list:\n",
    "            shots_dict[num_shots] = os.path.join('__results', 'instance={}'.format(instance_number), objective_function_type, 'rounds-{}_shots-{}'.format(rounds,num_shots))\n",
    "        all_folders[rounds] = shots_dict\n",
    "    return all_folders"
   ]
  },
  {
   "attachments": {},
   "cell_type": "markdown",
   "metadata": {},
   "source": [
    "Now convert the raw data to `.pkl` format"
   ]
  },
  {
   "cell_type": "code",
   "execution_count": null,
   "metadata": {},
   "outputs": [],
   "source": [
    "def raw_to_metric_data(instance_number, objective_function_type, rounds_list, num_shots_list):\n",
    "    \"\"\"\n",
    "    For given values of instance and objective function type, load all available raw qed-c data.\n",
    "    Retain only the quantities of interest (i.e. only the values of the objective function as afunction of iteration number and restart index), and store files in a folder '__results_pkl'.\n",
    "    Each stored file will correspond to a combination of shots and rounds, and contain a dataframe with indices as iteration number and columns as metric values corresponding to various restarts\n",
    "\n",
    "    Args:\n",
    "        instance_number (int)\n",
    "        objective_function_type (str)\n",
    "    \"\"\"\n",
    "    # First, get a list of folders with raw data corresponding to this instance\n",
    "    all_folders = get_folder_names(instance_number, objective_function_type)\n",
    "    \n",
    "    for rounds, num_shots in iterprod(rounds_list, num_shots_list):\n",
    "        raw_folder = all_folders[rounds][num_shots]\n",
    "        \n",
    "        target_folder = os.path.join('__results_pkl', 'instance={}'.format(instance_number))\n",
    "        target_file_name = '{}_rounds-{}_shots-{}.pkl'.format(objective_function_type, rounds, num_shots)\n",
    "        df, gen_prop = ws.json_to_pkl(raw_folder, target_folder = target_folder, target_file_name = target_file_name)\n",
    "\n",
    "for instance_number in range(2):\n",
    "    raw_to_metric_data(instance_number, objective_function_type, rounds_list, num_shots_list)"
   ]
  },
  {
   "attachments": {},
   "cell_type": "markdown",
   "metadata": {},
   "source": [
    "Do bootstrapping for restarts. Store bootstrapped data in `checkpoints` folder. "
   ]
  },
  {
   "cell_type": "code",
   "execution_count": null,
   "metadata": {},
   "outputs": [],
   "source": [
    "bs_restarts_list = [1,2,5,10,20,30,40,50,60,70,80,90,100]\n",
    "bootstrap_iterations = 1000\n",
    "confidence_level = 64\n",
    "def metric_data_to_bootstrapped(instance_number, bs_restarts_list, bootstrap_iterations, confidence_level):\n",
    "    pkl_folder = os.path.join('__results_pkl', 'instance={}'.format(instance_number))\n",
    "    sb_target_folder = 'checkpoints'\n",
    "    sb_target_file = 'bootstrapped_results_inst={}.pkl'.format(instance_number)\n",
    "    df = ws.pkl_to_sb_pkl_bootstrapped(pkl_folder, bs_restarts_list, bootstrap_iterations, instance_number, confidence_level, sb_target_folder = sb_target_folder, sb_target_file = sb_target_file)\n",
    "\n",
    "    return df\n",
    "\n",
    "for instance_number in range(2):\n",
    "    df = metric_data_to_bootstrapped(instance_number, bs_restarts_list, bootstrap_iterations, confidence_level)\n"
   ]
  }
 ],
 "metadata": {
  "kernelspec": {
   "display_name": "qiskit",
   "language": "python",
   "name": "python3"
  },
  "language_info": {
   "codemirror_mode": {
    "name": "ipython",
    "version": 3
   },
   "file_extension": ".py",
   "mimetype": "text/x-python",
   "name": "python",
   "nbconvert_exporter": "python",
   "pygments_lexer": "ipython3",
   "version": "3.10.5"
  },
  "orig_nbformat": 4,
  "vscode": {
   "interpreter": {
    "hash": "87c0327dc9df8477896aec72b423d1e52b3932ea0fdb948c052603181ca8100b"
   }
  }
 },
 "nbformat": 4,
 "nbformat_minor": 2
}
